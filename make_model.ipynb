{
 "cells": [
  {
   "cell_type": "code",
   "execution_count": 38,
   "metadata": {},
   "outputs": [],
   "source": [
    "import pandas as pd\n",
    "# ランダムフォレストで予測モデルを作成\n",
    "from sklearn.ensemble import RandomForestClassifier\n",
    "from sklearn.model_selection import train_test_split\n",
    "from sklearn import metrics\n",
    "from sklearn.model_selection import cross_val_score\n",
    "import matplotlib.pyplot as plt\n",
    "import numpy as np\n",
    "%matplotlib inline"
   ]
  },
  {
   "cell_type": "code",
   "execution_count": 39,
   "metadata": {},
   "outputs": [],
   "source": [
    "df = pd.read_csv('clean_result_data.csv')"
   ]
  },
  {
   "cell_type": "code",
   "execution_count": 40,
   "metadata": {},
   "outputs": [],
   "source": [
    "# データとラベルに分割\n",
    "data = df.iloc[:,0:len(df.columns)-1]\n",
    "label = df.iloc[:,len(df.columns)-1:]"
   ]
  },
  {
   "cell_type": "code",
   "execution_count": 41,
   "metadata": {},
   "outputs": [
    {
     "data": {
      "text/html": [
       "<div>\n",
       "<style scoped>\n",
       "    .dataframe tbody tr th:only-of-type {\n",
       "        vertical-align: middle;\n",
       "    }\n",
       "\n",
       "    .dataframe tbody tr th {\n",
       "        vertical-align: top;\n",
       "    }\n",
       "\n",
       "    .dataframe thead th {\n",
       "        text-align: right;\n",
       "    }\n",
       "</style>\n",
       "<table border=\"1\" class=\"dataframe\">\n",
       "  <thead>\n",
       "    <tr style=\"text-align: right;\">\n",
       "      <th></th>\n",
       "      <th>distance</th>\n",
       "      <th>frame_number</th>\n",
       "      <th>horse_number</th>\n",
       "      <th>age</th>\n",
       "      <th>loaf_weight</th>\n",
       "      <th>time</th>\n",
       "      <th>up</th>\n",
       "      <th>tansyo</th>\n",
       "      <th>popular</th>\n",
       "      <th>weight</th>\n",
       "      <th>...</th>\n",
       "      <th>weather_light_snow</th>\n",
       "      <th>weather_sunny</th>\n",
       "      <th>weather_cloudy</th>\n",
       "      <th>weather_rain</th>\n",
       "      <th>ground_dirt</th>\n",
       "      <th>ground_grass</th>\n",
       "      <th>ground_status_bad</th>\n",
       "      <th>ground_status_slightly_heavy</th>\n",
       "      <th>ground_status_good</th>\n",
       "      <th>ground_status_heavy</th>\n",
       "    </tr>\n",
       "  </thead>\n",
       "  <tbody>\n",
       "    <tr>\n",
       "      <td>0</td>\n",
       "      <td>1600</td>\n",
       "      <td>5</td>\n",
       "      <td>6</td>\n",
       "      <td>3</td>\n",
       "      <td>56.0</td>\n",
       "      <td>96.1</td>\n",
       "      <td>34.3</td>\n",
       "      <td>41.0</td>\n",
       "      <td>10.0</td>\n",
       "      <td>492</td>\n",
       "      <td>...</td>\n",
       "      <td>0</td>\n",
       "      <td>1</td>\n",
       "      <td>0</td>\n",
       "      <td>0</td>\n",
       "      <td>0</td>\n",
       "      <td>1</td>\n",
       "      <td>0</td>\n",
       "      <td>0</td>\n",
       "      <td>1</td>\n",
       "      <td>0</td>\n",
       "    </tr>\n",
       "    <tr>\n",
       "      <td>1</td>\n",
       "      <td>1200</td>\n",
       "      <td>5</td>\n",
       "      <td>9</td>\n",
       "      <td>4</td>\n",
       "      <td>57.0</td>\n",
       "      <td>72.4</td>\n",
       "      <td>36.9</td>\n",
       "      <td>4.8</td>\n",
       "      <td>2.0</td>\n",
       "      <td>476</td>\n",
       "      <td>...</td>\n",
       "      <td>0</td>\n",
       "      <td>1</td>\n",
       "      <td>0</td>\n",
       "      <td>0</td>\n",
       "      <td>1</td>\n",
       "      <td>0</td>\n",
       "      <td>0</td>\n",
       "      <td>1</td>\n",
       "      <td>0</td>\n",
       "      <td>0</td>\n",
       "    </tr>\n",
       "    <tr>\n",
       "      <td>2</td>\n",
       "      <td>1200</td>\n",
       "      <td>5</td>\n",
       "      <td>10</td>\n",
       "      <td>4</td>\n",
       "      <td>55.0</td>\n",
       "      <td>72.4</td>\n",
       "      <td>36.6</td>\n",
       "      <td>53.2</td>\n",
       "      <td>9.0</td>\n",
       "      <td>484</td>\n",
       "      <td>...</td>\n",
       "      <td>0</td>\n",
       "      <td>1</td>\n",
       "      <td>0</td>\n",
       "      <td>0</td>\n",
       "      <td>1</td>\n",
       "      <td>0</td>\n",
       "      <td>0</td>\n",
       "      <td>1</td>\n",
       "      <td>0</td>\n",
       "      <td>0</td>\n",
       "    </tr>\n",
       "    <tr>\n",
       "      <td>3</td>\n",
       "      <td>1200</td>\n",
       "      <td>2</td>\n",
       "      <td>3</td>\n",
       "      <td>5</td>\n",
       "      <td>57.0</td>\n",
       "      <td>72.7</td>\n",
       "      <td>36.9</td>\n",
       "      <td>24.3</td>\n",
       "      <td>7.0</td>\n",
       "      <td>474</td>\n",
       "      <td>...</td>\n",
       "      <td>0</td>\n",
       "      <td>1</td>\n",
       "      <td>0</td>\n",
       "      <td>0</td>\n",
       "      <td>1</td>\n",
       "      <td>0</td>\n",
       "      <td>0</td>\n",
       "      <td>1</td>\n",
       "      <td>0</td>\n",
       "      <td>0</td>\n",
       "    </tr>\n",
       "    <tr>\n",
       "      <td>4</td>\n",
       "      <td>1200</td>\n",
       "      <td>7</td>\n",
       "      <td>14</td>\n",
       "      <td>4</td>\n",
       "      <td>57.0</td>\n",
       "      <td>72.8</td>\n",
       "      <td>37.2</td>\n",
       "      <td>23.1</td>\n",
       "      <td>6.0</td>\n",
       "      <td>534</td>\n",
       "      <td>...</td>\n",
       "      <td>0</td>\n",
       "      <td>1</td>\n",
       "      <td>0</td>\n",
       "      <td>0</td>\n",
       "      <td>1</td>\n",
       "      <td>0</td>\n",
       "      <td>0</td>\n",
       "      <td>1</td>\n",
       "      <td>0</td>\n",
       "      <td>0</td>\n",
       "    </tr>\n",
       "  </tbody>\n",
       "</table>\n",
       "<p>5 rows × 24 columns</p>\n",
       "</div>"
      ],
      "text/plain": [
       "   distance  frame_number  horse_number  age  loaf_weight  time    up  tansyo  \\\n",
       "0      1600             5             6    3         56.0  96.1  34.3    41.0   \n",
       "1      1200             5             9    4         57.0  72.4  36.9     4.8   \n",
       "2      1200             5            10    4         55.0  72.4  36.6    53.2   \n",
       "3      1200             2             3    5         57.0  72.7  36.9    24.3   \n",
       "4      1200             7            14    4         57.0  72.8  37.2    23.1   \n",
       "\n",
       "   popular  weight  ...  weather_light_snow  weather_sunny  weather_cloudy  \\\n",
       "0     10.0     492  ...                   0              1               0   \n",
       "1      2.0     476  ...                   0              1               0   \n",
       "2      9.0     484  ...                   0              1               0   \n",
       "3      7.0     474  ...                   0              1               0   \n",
       "4      6.0     534  ...                   0              1               0   \n",
       "\n",
       "   weather_rain  ground_dirt  ground_grass  ground_status_bad  \\\n",
       "0             0            0             1                  0   \n",
       "1             0            1             0                  0   \n",
       "2             0            1             0                  0   \n",
       "3             0            1             0                  0   \n",
       "4             0            1             0                  0   \n",
       "\n",
       "   ground_status_slightly_heavy  ground_status_good  ground_status_heavy  \n",
       "0                             0                   1                    0  \n",
       "1                             1                   0                    0  \n",
       "2                             1                   0                    0  \n",
       "3                             1                   0                    0  \n",
       "4                             1                   0                    0  \n",
       "\n",
       "[5 rows x 24 columns]"
      ]
     },
     "execution_count": 41,
     "metadata": {},
     "output_type": "execute_result"
    }
   ],
   "source": [
    "# 不要な文字を削除\n",
    "data['money'] = data['money'].str.strip('\"')\n",
    "data['money'] = data['money'].str.replace(\",\", \"\")\n",
    "# result_rank、は結果なので予測時では使用しない\n",
    "data.drop(labels=[\"result_rank\", \"money\"], axis=1, inplace=True)\n",
    "data.head()"
   ]
  },
  {
   "cell_type": "code",
   "execution_count": 18,
   "metadata": {},
   "outputs": [
    {
     "data": {
      "text/html": [
       "<div>\n",
       "<style scoped>\n",
       "    .dataframe tbody tr th:only-of-type {\n",
       "        vertical-align: middle;\n",
       "    }\n",
       "\n",
       "    .dataframe tbody tr th {\n",
       "        vertical-align: top;\n",
       "    }\n",
       "\n",
       "    .dataframe thead th {\n",
       "        text-align: right;\n",
       "    }\n",
       "</style>\n",
       "<table border=\"1\" class=\"dataframe\">\n",
       "  <thead>\n",
       "    <tr style=\"text-align: right;\">\n",
       "      <th></th>\n",
       "      <th>place_top_three</th>\n",
       "    </tr>\n",
       "  </thead>\n",
       "  <tbody>\n",
       "    <tr>\n",
       "      <td>0</td>\n",
       "      <td>0</td>\n",
       "    </tr>\n",
       "    <tr>\n",
       "      <td>1</td>\n",
       "      <td>0</td>\n",
       "    </tr>\n",
       "    <tr>\n",
       "      <td>2</td>\n",
       "      <td>0</td>\n",
       "    </tr>\n",
       "    <tr>\n",
       "      <td>3</td>\n",
       "      <td>0</td>\n",
       "    </tr>\n",
       "    <tr>\n",
       "      <td>4</td>\n",
       "      <td>0</td>\n",
       "    </tr>\n",
       "    <tr>\n",
       "      <td>5</td>\n",
       "      <td>0</td>\n",
       "    </tr>\n",
       "    <tr>\n",
       "      <td>6</td>\n",
       "      <td>0</td>\n",
       "    </tr>\n",
       "    <tr>\n",
       "      <td>7</td>\n",
       "      <td>0</td>\n",
       "    </tr>\n",
       "    <tr>\n",
       "      <td>8</td>\n",
       "      <td>0</td>\n",
       "    </tr>\n",
       "    <tr>\n",
       "      <td>9</td>\n",
       "      <td>0</td>\n",
       "    </tr>\n",
       "    <tr>\n",
       "      <td>10</td>\n",
       "      <td>0</td>\n",
       "    </tr>\n",
       "    <tr>\n",
       "      <td>11</td>\n",
       "      <td>1</td>\n",
       "    </tr>\n",
       "    <tr>\n",
       "      <td>12</td>\n",
       "      <td>1</td>\n",
       "    </tr>\n",
       "    <tr>\n",
       "      <td>13</td>\n",
       "      <td>1</td>\n",
       "    </tr>\n",
       "    <tr>\n",
       "      <td>14</td>\n",
       "      <td>0</td>\n",
       "    </tr>\n",
       "  </tbody>\n",
       "</table>\n",
       "</div>"
      ],
      "text/plain": [
       "    place_top_three\n",
       "0                 0\n",
       "1                 0\n",
       "2                 0\n",
       "3                 0\n",
       "4                 0\n",
       "5                 0\n",
       "6                 0\n",
       "7                 0\n",
       "8                 0\n",
       "9                 0\n",
       "10                0\n",
       "11                1\n",
       "12                1\n",
       "13                1\n",
       "14                0"
      ]
     },
     "execution_count": 18,
     "metadata": {},
     "output_type": "execute_result"
    }
   ],
   "source": [
    "label.head(15)"
   ]
  },
  {
   "cell_type": "code",
   "execution_count": 19,
   "metadata": {},
   "outputs": [
    {
     "data": {
      "text/plain": [
       "Index(['distance', 'frame_number', 'horse_number', 'age', 'loaf_weight',\n",
       "       'time', 'up', 'tansyo', 'popular', 'weight', 'male', 'female',\n",
       "       'gelding', 'weather_light_rain', 'weather_light_snow', 'weather_sunny',\n",
       "       'weather_cloudy', 'weather_rain', 'ground_dirt', 'ground_grass',\n",
       "       'ground_status_bad', 'ground_status_slightly_heavy',\n",
       "       'ground_status_good', 'ground_status_heavy'],\n",
       "      dtype='object')"
      ]
     },
     "execution_count": 19,
     "metadata": {},
     "output_type": "execute_result"
    }
   ],
   "source": [
    "data.columns"
   ]
  },
  {
   "cell_type": "code",
   "execution_count": 20,
   "metadata": {},
   "outputs": [],
   "source": [
    "# 訓練セットとテストセットに分割\n",
    "X_train, X_test, y_train, y_test = train_test_split(data, label, random_state=0)"
   ]
  },
  {
   "cell_type": "code",
   "execution_count": 42,
   "metadata": {},
   "outputs": [],
   "source": [
    "# 予測モデル作成\n",
    "forest = RandomForestClassifier(n_estimators=100, random_state=0)\n",
    "#forest.fit(X_train, y_train)"
   ]
  },
  {
   "cell_type": "code",
   "execution_count": 25,
   "metadata": {},
   "outputs": [
    {
     "name": "stdout",
     "output_type": "stream",
     "text": [
      "訓練結果: 1.000\n",
      "テスト結果: 0.944\n"
     ]
    }
   ],
   "source": [
    "print(\"訓練結果: {:.3f}\".format(forest.score(X_train, y_train)))\n",
    "print(\"テスト結果: {:.3f}\".format(forest.score(X_test, y_test)))"
   ]
  },
  {
   "cell_type": "code",
   "execution_count": 26,
   "metadata": {},
   "outputs": [
    {
     "name": "stdout",
     "output_type": "stream",
     "text": [
      "特徴量の重要度　:\n",
      "[2.98603479e-02 4.67182631e-02 6.31425824e-02 3.85468860e-02\n",
      " 3.71126673e-02 1.08655084e-01 1.33217780e-01 2.31229885e-01\n",
      " 1.24761148e-01 9.15358084e-02 7.79191670e-03 6.98618685e-03\n",
      " 3.13588931e-03 3.07023478e-03 1.91308760e-04 1.16967223e-02\n",
      " 1.11383878e-02 4.77019978e-03 6.22158074e-03 6.70137137e-03\n",
      " 3.81558198e-03 1.07682288e-02 1.15225314e-02 7.40940735e-03]\n"
     ]
    }
   ],
   "source": [
    "# 特徴量の重要度を見る\n",
    "print(\"特徴量の重要度　:\\n{}\".format(forest.feature_importances_))"
   ]
  },
  {
   "cell_type": "code",
   "execution_count": 27,
   "metadata": {},
   "outputs": [
    {
     "data": {
      "image/png": "[encoded data removed]",
      "text/plain": [
       "<Figure size 432x288 with 1 Axes>"
      ]
     },
     "metadata": {
      "needs_background": "light"
     },
     "output_type": "display_data"
    }
   ],
   "source": [
    "# 特徴量の重要度を可視化\n",
    "def plot_feature_importances(model):\n",
    "    n_features = data.shape[1]\n",
    "    plt.barh(range(n_features), model.feature_importances_, align='center')\n",
    "    plt.yticks(np.arange(n_features), data.columns)\n",
    "    plt.xlabel(\"Feature importance\")\n",
    "    plt.ylabel(\"Feature\")\n",
    "plot_feature_importances(forest)"
   ]
  },
  {
   "cell_type": "code",
   "execution_count": 30,
   "metadata": {},
   "outputs": [],
   "source": [
    "pre = forest.predict(X_test)"
   ]
  },
  {
   "cell_type": "code",
   "execution_count": 35,
   "metadata": {},
   "outputs": [
    {
     "name": "stdout",
     "output_type": "stream",
     "text": [
      "正答率: 0.9441354745985128\n",
      "精度: 0.9193341869398207\n"
     ]
    }
   ],
   "source": [
    "as_score = metrics.accuracy_score(y_test, pre)\n",
    "print(\"正答率:\", as_score)\n",
    "as_score = metrics.precision_score(y_test, pre)\n",
    "print(\"精度:\", as_score)"
   ]
  },
  {
   "cell_type": "code",
   "execution_count": 45,
   "metadata": {},
   "outputs": [
    {
     "name": "stderr",
     "output_type": "stream",
     "text": [
      "C:\\Users\\hiros\\Anaconda3\\lib\\site-packages\\sklearn\\model_selection\\_validation.py:516: DataConversionWarning: A column-vector y was passed when a 1d array was expected. Please change the shape of y to (n_samples,), for example using ravel().\n",
      "  estimator.fit(X_train, y_train, **fit_params)\n",
      "C:\\Users\\hiros\\Anaconda3\\lib\\site-packages\\sklearn\\model_selection\\_validation.py:516: DataConversionWarning: A column-vector y was passed when a 1d array was expected. Please change the shape of y to (n_samples,), for example using ravel().\n",
      "  estimator.fit(X_train, y_train, **fit_params)\n",
      "C:\\Users\\hiros\\Anaconda3\\lib\\site-packages\\sklearn\\model_selection\\_validation.py:516: DataConversionWarning: A column-vector y was passed when a 1d array was expected. Please change the shape of y to (n_samples,), for example using ravel().\n",
      "  estimator.fit(X_train, y_train, **fit_params)\n",
      "C:\\Users\\hiros\\Anaconda3\\lib\\site-packages\\sklearn\\model_selection\\_validation.py:516: DataConversionWarning: A column-vector y was passed when a 1d array was expected. Please change the shape of y to (n_samples,), for example using ravel().\n",
      "  estimator.fit(X_train, y_train, **fit_params)\n",
      "C:\\Users\\hiros\\Anaconda3\\lib\\site-packages\\sklearn\\model_selection\\_validation.py:516: DataConversionWarning: A column-vector y was passed when a 1d array was expected. Please change the shape of y to (n_samples,), for example using ravel().\n",
      "  estimator.fit(X_train, y_train, **fit_params)\n"
     ]
    },
    {
     "name": "stdout",
     "output_type": "stream",
     "text": [
      "cross_val_score: [0.82441615 0.82972741 0.83019605 0.83127636 0.82751348]\n",
      "Average cross_val_score: 0.83\n"
     ]
    }
   ],
   "source": [
    "##########################\n",
    "# 交差検証を行う #\n",
    "# 分割数を5に設定\n",
    "scores = cross_val_score(forest, data, label, cv=5)\n",
    "print(\"cross_val_score: {}\".format(scores))\n",
    "print(\"Average cross_val_score: {:.2f}\".format(scores.mean()))"
   ]
  },
  {
   "cell_type": "code",
   "execution_count": null,
   "metadata": {},
   "outputs": [],
   "source": []
  }
 ],
 "metadata": {
  "kernelspec": {
   "display_name": "Python 3",
   "language": "python",
   "name": "python3"
  },
  "language_info": {
   "codemirror_mode": {
    "name": "ipython",
    "version": 3
   },
   "file_extension": ".py",
   "mimetype": "text/x-python",
   "name": "python",
   "nbconvert_exporter": "python",
   "pygments_lexer": "ipython3",
   "version": "3.7.4"
  }
 },
 "nbformat": 4,
 "nbformat_minor": 2
}
